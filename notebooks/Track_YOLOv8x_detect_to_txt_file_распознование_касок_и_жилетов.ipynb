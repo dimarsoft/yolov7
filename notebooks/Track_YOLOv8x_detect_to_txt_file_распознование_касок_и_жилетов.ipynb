{
  "cells": [
    {
      "cell_type": "markdown",
      "metadata": {
        "id": "view-in-github",
        "colab_type": "text"
      },
      "source": [
        "<a href=\"https://colab.research.google.com/github/dimarsoft/ColabYOLO/blob/main/Track_YOLOv8x_detect_to_txt_file_%D1%80%D0%B0%D1%81%D0%BF%D0%BE%D0%B7%D0%BD%D0%BE%D0%B2%D0%B0%D0%BD%D0%B8%D0%B5_%D0%BA%D0%B0%D1%81%D0%BE%D0%BA_%D0%B8_%D0%B6%D0%B8%D0%BB%D0%B5%D1%82%D0%BE%D0%B2.ipynb\" target=\"_parent\"><img src=\"https://colab.research.google.com/assets/colab-badge.svg\" alt=\"Open In Colab\"/></a>"
      ]
    },
    {
      "cell_type": "code",
      "source": [
        "# Подключаем диск: на диске видео и потом туда сохраняем labels и видео с результатами.\n",
        "from google.colab import drive\n",
        "drive.mount('/content/drive', force_remount=True)"
      ],
      "metadata": {
        "colab": {
          "base_uri": "https://localhost:8080/"
        },
        "id": "AMunfSCYCpFA",
        "outputId": "344c2607-75b1-4dba-a84e-ec1f152fb841"
      },
      "execution_count": null,
      "outputs": [
        {
          "output_type": "stream",
          "name": "stdout",
          "text": [
            "Mounted at /content/drive\n"
          ]
        }
      ]
    },
    {
      "cell_type": "markdown",
      "metadata": {
        "id": "7mGmQbAO5pQb"
      },
      "source": [
        "#Установка yolo8"
      ]
    },
    {
      "cell_type": "code",
      "execution_count": null,
      "metadata": {
        "id": "nD-uPyQ_2jiN"
      },
      "outputs": [],
      "source": [
        "# Скачиваем репозиторию и её зависимости\n",
        "!pip install ultralytics\n",
        "!pip install lap\n",
        "import ultralytics"
      ]
    },
    {
      "cell_type": "code",
      "source": [
        "from ultralytics import YOLO\n",
        "\n",
        "# Создаем объект модели, указываем путь к весам в входном параметре\n",
        "\n",
        "model = YOLO('/content/drive/MyDrive/AI_2023/SharedTrainedModels/Yolov8/Yolo8s_batch8_epoch100.pt')\n"
      ],
      "metadata": {
        "id": "rL5Je7Q1aJY8"
      },
      "execution_count": null,
      "outputs": []
    },
    {
      "cell_type": "code",
      "source": [
        "track = model.track(\n",
        "    source=\"/content/drive/MyDrive/AI_2023/dataset-v1.1/dataset-v1.1/test/10.mp4\",\n",
        "    stream=False,\n",
        "    save=False, # видео создавать да/нет\n",
        "    tracker=\"botsort.yaml\"  # or 'bytetrack.yaml'\n",
        ")\n"
      ],
      "metadata": {
        "id": "qLpZlP_NZDvy"
      },
      "execution_count": null,
      "outputs": []
    },
    {
      "cell_type": "markdown",
      "source": [
        "Properties:\n",
        "xyxy (torch.Tensor) or (numpy.ndarray): The boxes in xyxy format.\n",
        "        conf (torch.Tensor) or (numpy.ndarray): The confidence values of the boxes.\n",
        "        cls (torch.Tensor) or (numpy.ndarray): The class values of the boxes.\n",
        "        id (torch.Tensor) or (numpy.ndarray): The track IDs of the boxes (if available).\n",
        "        xywh (torch.Tensor) or (numpy.ndarray): The boxes in xywh format.\n",
        "        xyxyn (torch.Tensor) or (numpy.ndarray): The boxes in xyxy format normalized by original image size.\n",
        "        xywhn (torch.Tensor) or (numpy.ndarray): The boxes in xywh format normalized by original image size.\n",
        "        data (torch.Tensor): The raw bboxes tensor"
      ],
      "metadata": {
        "id": "1MEAiZC71Ghx"
      }
    },
    {
      "cell_type": "code",
      "source": [
        "# сохранение в текстовый файл\n",
        "# frame_index, id, cls, bbox_left, bbox_top, bbox_w, bbox_h\n",
        "\n",
        "def save_tracks_to_txt(results, txt_path):\n",
        "    with open(txt_path, 'a') as text_file:\n",
        "        for frame_index, track in enumerate(results):\n",
        "            if track.boxes is not None:\n",
        "                for box in track.boxes:\n",
        "                  if box.id is None:\n",
        "                    continue\n",
        "                  xywhn = box.xywhn.numpy()[0]\n",
        "                  print(frame_index, \" \", xywhn)\n",
        "                  bbox_w = xywhn[2]\n",
        "                  bbox_h = xywhn[3]\n",
        "                  bbox_left = xywhn[0] - bbox_w / 2\n",
        "                  bbox_top = xywhn[1] - bbox_h / 2\n",
        "                  id = int(box.id)\n",
        "                  cls = int(box.cls)\n",
        "                  text_file.write(('%g ' * 7 + '\\n') % (frame_index, id, cls, bbox_left,\n",
        "                                                               bbox_top, bbox_w, bbox_h))\n"
      ],
      "metadata": {
        "id": "eVEoEul3gCpE"
      },
      "execution_count": null,
      "outputs": []
    },
    {
      "cell_type": "code",
      "source": [
        "save_tracks_to_txt(track, \"10.txt\")\n"
      ],
      "metadata": {
        "id": "SnXd7vmcnBdP"
      },
      "execution_count": null,
      "outputs": []
    }
  ],
  "metadata": {
    "colab": {
      "provenance": [],
      "include_colab_link": true
    },
    "kernelspec": {
      "display_name": "Python 3",
      "name": "python3"
    },
    "gpuClass": "standard",
    "accelerator": "GPU"
  },
  "nbformat": 4,
  "nbformat_minor": 0
}