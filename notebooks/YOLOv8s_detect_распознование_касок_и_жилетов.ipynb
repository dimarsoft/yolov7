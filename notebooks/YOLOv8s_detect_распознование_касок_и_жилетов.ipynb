{
  "cells": [
    {
      "cell_type": "markdown",
      "metadata": {
        "id": "view-in-github",
        "colab_type": "text"
      },
      "source": [
        "<a href=\"https://colab.research.google.com/github/dimarsoft/ColabYOLO/blob/main/YOLOv8s_detect_%D1%80%D0%B0%D1%81%D0%BF%D0%BE%D0%B7%D0%BD%D0%BE%D0%B2%D0%B0%D0%BD%D0%B8%D0%B5_%D0%BA%D0%B0%D1%81%D0%BE%D0%BA_%D0%B8_%D0%B6%D0%B8%D0%BB%D0%B5%D1%82%D0%BE%D0%B2.ipynb\" target=\"_parent\"><img src=\"https://colab.research.google.com/assets/colab-badge.svg\" alt=\"Open In Colab\"/></a>"
      ]
    },
    {
      "cell_type": "code",
      "source": [
        "# Подключаем диск: на диске видео и потом туда сохраняем labels и видео с результатами.\n",
        "from google.colab import drive\n",
        "drive.mount('/content/drive', force_remount=True)"
      ],
      "metadata": {
        "colab": {
          "base_uri": "https://localhost:8080/"
        },
        "id": "AMunfSCYCpFA",
        "outputId": "6ee3796d-5702-4e72-f4b8-a62a5888a746"
      },
      "execution_count": 1,
      "outputs": [
        {
          "output_type": "stream",
          "name": "stdout",
          "text": [
            "Mounted at /content/drive\n"
          ]
        }
      ]
    },
    {
      "cell_type": "markdown",
      "metadata": {
        "id": "7mGmQbAO5pQb"
      },
      "source": [
        "#Установка yolo8"
      ]
    },
    {
      "cell_type": "code",
      "execution_count": null,
      "metadata": {
        "id": "nD-uPyQ_2jiN"
      },
      "outputs": [],
      "source": [
        "# Скачиваем репозиторию и её зависимости\n",
        "!pip install ultralytics\n",
        "import ultralytics"
      ]
    },
    {
      "cell_type": "markdown",
      "source": [
        "#Инференс"
      ],
      "metadata": {
        "id": "IB3Ox9eSVQsA"
      }
    },
    {
      "cell_type": "markdown",
      "source": [
        "#yolo8 cli - запуск через комендную строку\n",
        "\n",
        "!yolo detect predict model='/content/drive/MyDrive/AI_2023/TrainedModels/Yolov8/best.pt' source=\"/content/drive/MyDrive/AI_2023/dataset-v1.1/test/\" save_txt=True\n"
      ],
      "metadata": {
        "id": "JS89Cl77Uw-H"
      }
    },
    {
      "cell_type": "code",
      "source": [
        "!yolo detect predict model='/content/drive/MyDrive/AI_2023/TrainedModels/Yolov8/best.pt' source=\"/content/drive/MyDrive/AI_2023/dataset-v1.1/test/\" save_txt=True"
      ],
      "metadata": {
        "id": "hr5T3_tJyMBa"
      },
      "execution_count": null,
      "outputs": []
    },
    {
      "cell_type": "markdown",
      "source": [
        "#К видео добавляем результаты"
      ],
      "metadata": {
        "id": "A_QcXe6UV0k3"
      }
    },
    {
      "cell_type": "code",
      "source": [
        "from pathlib import Path\n",
        "import cv2\n",
        "from enum import Enum\n",
        "import argparse\n",
        "\n",
        "import numpy as np\n",
        "\n",
        "\n",
        "class Labels(Enum):\n",
        "    human = 0\n",
        "    helmet = 1\n",
        "    uniform = 2\n",
        "\n",
        "\n",
        "line_a = -0.2\n",
        "line_b = 0.68\n",
        "\n",
        "label_colors = {\n",
        "    Labels.human: (255, 255, 0),\n",
        "    Labels.helmet: (255, 0, 255),\n",
        "    Labels.uniform: (255, 255, 255)\n",
        "}\n",
        "\n",
        "\n",
        "def get_y(x):\n",
        "    return line_a * x + line_b\n",
        "\n",
        "\n",
        "def test_human(label):\n",
        "    y_turniket = get_y(label.x)\n",
        "\n",
        "    if y_turniket > label.y:\n",
        "        label.above = True\n",
        "    else:\n",
        "        label.above = False\n",
        "\n",
        "\n",
        "def parse_row(info):\n",
        "    box = info.split(\" \")\n",
        "    if np.char.isnumeric(box[0].replace('\\n', '')):\n",
        "        return DetectedLabel(Labels(int(box[0])), float(box[1]), float(box[2]), float(box[3]), float(box[4]))\n",
        "\n",
        "    return None\n",
        "\n",
        "\n",
        "def read_labels(labels_file):\n",
        "    labels = []\n",
        "    try:\n",
        "        with open(labels_file, 'r') as handle:\n",
        "            box_info = handle.readlines()\n",
        "            for txt in box_info:\n",
        "                lab = parse_row(txt)\n",
        "                if lab is not None:\n",
        "                    if lab.label is Labels.human:\n",
        "                        test_human(lab)\n",
        "                    labels.append(lab)\n",
        "            return labels\n",
        "    except FileNotFoundError as e:\n",
        "        print(labels_file, e)\n",
        "        return labels\n",
        "    return labels\n",
        "\n",
        "\n",
        "class DetectedLabel:\n",
        "    def __init__(self, label, x, y, width, height):\n",
        "        self.label = label\n",
        "        self.x = x\n",
        "        self.y = y\n",
        "        self.width = width\n",
        "        self.height = height\n",
        "        self.above = None\n",
        "\n",
        "\n",
        "def draw_info(frame, number, frame_w, frame_h, labels_path, suffix):\n",
        "    path_to_file = Path(labels_path) / f\"{suffix}_{number}.txt\"\n",
        "\n",
        "    if path_to_file.exists():\n",
        "        labels = read_labels(path_to_file)\n",
        "\n",
        "        humans = 0\n",
        "\n",
        "        for lab in labels:\n",
        "            hh = int(lab.height * frame_h)\n",
        "            ww = int(lab.width * frame_w)\n",
        "\n",
        "            x = int(lab.x * frame_w - ww / 2)\n",
        "            y = int(lab.y * frame_h - hh / 2)\n",
        "\n",
        "            # турникет\n",
        "            y1 = int(get_y(0) * frame_h)\n",
        "            y2 = int(get_y(1) * frame_h)\n",
        "            cv2.line(frame, (0, y1), (frame_w, y2), (0, 0, 255), 1)\n",
        "\n",
        "            # рамка обекта\n",
        "\n",
        "            cv2.rectangle(frame, (x, y), (x + ww, y + hh), label_colors[lab.label], 1)\n",
        "\n",
        "            # если человек, то рисуем центр масс\n",
        "            if lab.label is Labels.human:\n",
        "                x = int(x + ww / 2)\n",
        "                y = int(y + hh / 2)\n",
        "\n",
        "                if lab.above is True:\n",
        "                    color = (0, 0, 255)\n",
        "                else:\n",
        "                    color = (0, 255, 0)\n",
        "\n",
        "                cv2.circle(frame, (x, y), 10, color, -1)\n",
        "\n",
        "                humans += 1\n",
        "\n",
        "        if humans > 0:\n",
        "            cv2.putText(frame, f\"humans: {humans} \", (0, 40), 0, 1, (255, 255, 255), 2, cv2.LINE_AA)\n",
        "\n",
        "    pass\n",
        "\n",
        "\n",
        "def draw_on_video(src_video_path, output_video_path, labels_path):\n",
        "    path_v = Path(src_video_path)\n",
        "    suffix = path_v.stem\n",
        "\n",
        "    # reading the input\n",
        "    input_video = cv2.VideoCapture(src_video_path)\n",
        "\n",
        "    fps = input_video.get(cv2.CAP_PROP_FPS)\n",
        "    w = int(input_video.get(cv2.CAP_PROP_FRAME_WIDTH))\n",
        "    h = int(input_video.get(cv2.CAP_PROP_FRAME_HEIGHT))\n",
        "\n",
        "    output_video = cv2.VideoWriter(\n",
        "        output_video_path, cv2.VideoWriter_fourcc(*'mp4v'),\n",
        "        fps, (w, h))\n",
        "\n",
        "    frame_id = 0\n",
        "    font = cv2.FONT_HERSHEY_SIMPLEX\n",
        "\n",
        "    while True:\n",
        "        ret, frame = input_video.read()\n",
        "        if ret:\n",
        "\n",
        "            draw_info(frame, frame_id, w, h, labels_path, suffix)\n",
        "            output_video.write(frame)\n",
        "            # cv2.imshow(\"output\", frame)\n",
        "\n",
        "            frame_id += 1\n",
        "\n",
        "            if cv2.waitKey(1) & 0xFF == ord('s'):\n",
        "                break\n",
        "        else:\n",
        "            break\n",
        "\n",
        "    cv2.destroyAllWindows()\n",
        "    output_video.release()\n",
        "    input_video.release()\n",
        "\n",
        "\n",
        "def draw_folder(input_folder, output_folder, label_folder):\n",
        "    videos_path = Path(input_folder)\n",
        "\n",
        "    # iterate directory\n",
        "    for entry in videos_path.iterdir():\n",
        "        # check if it a file\n",
        "        if entry.is_file() and entry.suffix == \".mp4\":\n",
        "            # print(entry.name, \" \", entry.suffix)\n",
        "\n",
        "            videos_out_path = Path(output_folder) / f\"{entry.stem}_post.mp4\"\n",
        "\n",
        "            print(\"src = \", entry.name, \", output = \", str(videos_out_path))\n",
        "\n",
        "            draw_on_video(str(entry), str(videos_out_path), label_folder)\n",
        "\n",
        "\n",
        "# пример запуска в питоне\n",
        "def run_example():\n",
        "    src_video_path = \"/content/drive/MyDrive/AI_2023/dataset-v1.1/test/\"\n",
        "    output_video_path = \"/content/drive/MyDrive/AI_2023/dataset-v1.1/8s_post/\"\n",
        "    labels_path = \"/content/runs/detect/predict/labels\"\n",
        "\n",
        "    draw_folder(src_video_path, output_video_path, labels_path)\n",
        "\n",
        "run_example()\n",
        "\n"
      ],
      "metadata": {
        "id": "FUSBZvxE0dYS"
      },
      "execution_count": null,
      "outputs": []
    }
  ],
  "metadata": {
    "colab": {
      "provenance": [],
      "include_colab_link": true
    },
    "kernelspec": {
      "display_name": "Python 3",
      "name": "python3"
    },
    "gpuClass": "standard",
    "accelerator": "GPU"
  },
  "nbformat": 4,
  "nbformat_minor": 0
}